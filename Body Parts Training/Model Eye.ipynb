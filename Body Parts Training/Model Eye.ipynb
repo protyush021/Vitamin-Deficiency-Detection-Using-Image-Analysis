{
 "cells": [
  {
   "cell_type": "code",
   "execution_count": 32,
   "metadata": {},
   "outputs": [],
   "source": [
    "import tensorflow as tf\n",
    "from tensorflow.keras.preprocessing.image import ImageDataGenerator\n",
    "from tensorflow.keras.applications import VGG16\n",
    "from tensorflow.keras.models import Sequential\n",
    "from tensorflow.keras.layers import Dense, GlobalAveragePooling2D, Dropout\n",
    "from tensorflow.keras.callbacks import EarlyStopping, ModelCheckpoint\n",
    "import matplotlib.pyplot as plt\n",
    "import ssl\n",
    "import os"
   ]
  },
  {
   "cell_type": "code",
   "execution_count": 33,
   "metadata": {},
   "outputs": [],
   "source": [
    "# ✅ Fix SSL certificate verification issue\n",
    "ssl._create_default_https_context = ssl._create_unverified_context"
   ]
  },
  {
   "cell_type": "code",
   "execution_count": 34,
   "metadata": {},
   "outputs": [],
   "source": [
    "# ✅ Updated data path (no train/val/test directories; direct class folders under 'Body Parts')\n",
    "data_dir = 'Body Parts/Eye'  # Example: 'Body Parts/Eye', 'Body Parts/Face', etc.\n"
   ]
  },
  {
   "cell_type": "code",
   "execution_count": 35,
   "metadata": {},
   "outputs": [],
   "source": [
    "# Image dimensions and batch size\n",
    "IMG_SIZE = (224, 224)\n",
    "BATCH_SIZE = 32\n"
   ]
  },
  {
   "cell_type": "code",
   "execution_count": 36,
   "metadata": {},
   "outputs": [],
   "source": [
    "# ✅ Data augmentation and data generators\n",
    "train_datagen = ImageDataGenerator(\n",
    "    rescale=1./255,\n",
    "    rotation_range=20,\n",
    "    width_shift_range=0.2,\n",
    "    height_shift_range=0.2,\n",
    "    shear_range=0.2,\n",
    "    zoom_range=0.2,\n",
    "    horizontal_flip=True,\n",
    "    fill_mode='nearest',\n",
    "    validation_split=0.2  # ✅ Split data into 80% train and 20% validation\n",
    ")\n"
   ]
  },
  {
   "cell_type": "code",
   "execution_count": 37,
   "metadata": {},
   "outputs": [
    {
     "name": "stdout",
     "output_type": "stream",
     "text": [
      "Found 436 images belonging to 6 classes.\n",
      "Found 106 images belonging to 6 classes.\n"
     ]
    }
   ],
   "source": [
    "# ✅ Generator function\n",
    "train_generator = train_datagen.flow_from_directory(\n",
    "    data_dir,\n",
    "    target_size=IMG_SIZE,\n",
    "    batch_size=BATCH_SIZE,\n",
    "    class_mode='categorical',\n",
    "    subset='training',\n",
    "    shuffle=True\n",
    ")\n",
    "\n",
    "val_generator = train_datagen.flow_from_directory(\n",
    "    data_dir,\n",
    "    target_size=IMG_SIZE,\n",
    "    batch_size=BATCH_SIZE,\n",
    "    class_mode='categorical',\n",
    "    subset='validation',\n",
    "    shuffle=False\n",
    ")"
   ]
  },
  {
   "cell_type": "code",
   "execution_count": 38,
   "metadata": {},
   "outputs": [
    {
     "name": "stdout",
     "output_type": "stream",
     "text": [
      "Classes found: {'Bulging Eyes': 0, 'Cataracts': 1, 'Crossed Eyes': 2, 'Glaucoma': 3, 'Healthy Eye': 4, 'Uveitis': 5}\n",
      "Number of classes detected: 6\n"
     ]
    }
   ],
   "source": [
    "# ✅ Debugging: Verify classes\n",
    "print(\"Classes found:\", train_generator.class_indices)\n",
    "num_classes = train_generator.num_classes\n",
    "print(f\"Number of classes detected: {num_classes}\")"
   ]
  },
  {
   "cell_type": "code",
   "execution_count": 39,
   "metadata": {},
   "outputs": [],
   "source": [
    "# ✅ Build VGG16 model\n",
    "def build_vgg16_model(num_classes):\n",
    "    base_model = VGG16(weights='imagenet', include_top=False, input_shape=(224, 224, 3))\n",
    "    base_model.trainable = False\n",
    "\n",
    "    model = Sequential([\n",
    "        base_model,\n",
    "        GlobalAveragePooling2D(),\n",
    "        Dense(512, activation='relu'),\n",
    "        Dropout(0.5),\n",
    "        Dense(num_classes, activation='softmax')\n",
    "    ])\n",
    "    return model"
   ]
  },
  {
   "cell_type": "code",
   "execution_count": null,
   "metadata": {},
   "outputs": [],
   "source": [
    "# ✅ Callbacks to save the model\n",
    "def get_callbacks(model_name):\n",
    "    return [\n",
    "        EarlyStopping(monitor='val_loss', patience=5, restore_best_weights=True),\n",
    "        ModelCheckpoint(filepath=f'{model_name}_saved_model_Eye', save_format='tf', monitor='val_loss', save_best_only=True)  # ✅ TensorFlow SavedModel format\n",
    "    ]\n"
   ]
  },
  {
   "cell_type": "code",
   "execution_count": 41,
   "metadata": {},
   "outputs": [],
   "source": [
    "# ✅ Training function\n",
    "def train_model(model, model_name):\n",
    "    model.compile(optimizer='adam', loss='categorical_crossentropy', metrics=['accuracy'])\n",
    "    history = model.fit(\n",
    "        train_generator,\n",
    "        epochs=20,\n",
    "        validation_data=val_generator,\n",
    "        callbacks=get_callbacks(model_name)\n",
    "    )\n",
    "\n",
    "    # ✅ Save final model in TensorFlow SavedModel format\n",
    "    model_save_path = f'{model_name}_final_saved_model'\n",
    "    model.save(model_save_path, save_format='tf')\n",
    "    print(f\"✅ Final model saved at: {model_save_path}\")\n",
    "    return history"
   ]
  },
  {
   "cell_type": "code",
   "execution_count": 42,
   "metadata": {},
   "outputs": [
    {
     "name": "stdout",
     "output_type": "stream",
     "text": [
      "Building and training VGG16 model...\n",
      "Epoch 1/20\n",
      "14/14 [==============================] - ETA: 0s - loss: 1.7492 - accuracy: 0.3119"
     ]
    },
    {
     "name": "stderr",
     "output_type": "stream",
     "text": [
      "/Library/Frameworks/Python.framework/Versions/3.10/lib/python3.10/site-packages/keras/src/engine/training.py:3103: UserWarning: You are saving your model as an HDF5 file via `model.save()`. This file format is considered legacy. We recommend using instead the native Keras format, e.g. `model.save('my_model.keras')`.\n",
      "  saving_api.save_model(\n"
     ]
    },
    {
     "name": "stdout",
     "output_type": "stream",
     "text": [
      "INFO:tensorflow:Assets written to: BodyParts_VGG16_saved_model_Eye/assets\n"
     ]
    },
    {
     "name": "stderr",
     "output_type": "stream",
     "text": [
      "INFO:tensorflow:Assets written to: BodyParts_VGG16_saved_model_Eye/assets\n"
     ]
    },
    {
     "name": "stdout",
     "output_type": "stream",
     "text": [
      "14/14 [==============================] - 56s 4s/step - loss: 1.7492 - accuracy: 0.3119 - val_loss: 1.5235 - val_accuracy: 0.4057\n",
      "Epoch 2/20\n",
      "14/14 [==============================] - ETA: 0s - loss: 1.3954 - accuracy: 0.4748"
     ]
    },
    {
     "name": "stderr",
     "output_type": "stream",
     "text": [
      "/Library/Frameworks/Python.framework/Versions/3.10/lib/python3.10/site-packages/keras/src/engine/training.py:3103: UserWarning: You are saving your model as an HDF5 file via `model.save()`. This file format is considered legacy. We recommend using instead the native Keras format, e.g. `model.save('my_model.keras')`.\n",
      "  saving_api.save_model(\n"
     ]
    },
    {
     "name": "stdout",
     "output_type": "stream",
     "text": [
      "INFO:tensorflow:Assets written to: BodyParts_VGG16_saved_model_Eye/assets\n"
     ]
    },
    {
     "name": "stderr",
     "output_type": "stream",
     "text": [
      "INFO:tensorflow:Assets written to: BodyParts_VGG16_saved_model_Eye/assets\n"
     ]
    },
    {
     "name": "stdout",
     "output_type": "stream",
     "text": [
      "14/14 [==============================] - 61s 4s/step - loss: 1.3954 - accuracy: 0.4748 - val_loss: 1.3043 - val_accuracy: 0.5283\n",
      "Epoch 3/20\n",
      "14/14 [==============================] - ETA: 0s - loss: 1.3415 - accuracy: 0.5413"
     ]
    },
    {
     "name": "stderr",
     "output_type": "stream",
     "text": [
      "/Library/Frameworks/Python.framework/Versions/3.10/lib/python3.10/site-packages/keras/src/engine/training.py:3103: UserWarning: You are saving your model as an HDF5 file via `model.save()`. This file format is considered legacy. We recommend using instead the native Keras format, e.g. `model.save('my_model.keras')`.\n",
      "  saving_api.save_model(\n"
     ]
    },
    {
     "name": "stdout",
     "output_type": "stream",
     "text": [
      "INFO:tensorflow:Assets written to: BodyParts_VGG16_saved_model_Eye/assets\n"
     ]
    },
    {
     "name": "stderr",
     "output_type": "stream",
     "text": [
      "INFO:tensorflow:Assets written to: BodyParts_VGG16_saved_model_Eye/assets\n"
     ]
    },
    {
     "name": "stdout",
     "output_type": "stream",
     "text": [
      "14/14 [==============================] - 65s 5s/step - loss: 1.3415 - accuracy: 0.5413 - val_loss: 1.2694 - val_accuracy: 0.5377\n",
      "Epoch 4/20\n",
      "14/14 [==============================] - ETA: 0s - loss: 1.2044 - accuracy: 0.5803"
     ]
    },
    {
     "name": "stderr",
     "output_type": "stream",
     "text": [
      "/Library/Frameworks/Python.framework/Versions/3.10/lib/python3.10/site-packages/keras/src/engine/training.py:3103: UserWarning: You are saving your model as an HDF5 file via `model.save()`. This file format is considered legacy. We recommend using instead the native Keras format, e.g. `model.save('my_model.keras')`.\n",
      "  saving_api.save_model(\n"
     ]
    },
    {
     "name": "stdout",
     "output_type": "stream",
     "text": [
      "INFO:tensorflow:Assets written to: BodyParts_VGG16_saved_model_Eye/assets\n"
     ]
    },
    {
     "name": "stderr",
     "output_type": "stream",
     "text": [
      "INFO:tensorflow:Assets written to: BodyParts_VGG16_saved_model_Eye/assets\n"
     ]
    },
    {
     "name": "stdout",
     "output_type": "stream",
     "text": [
      "14/14 [==============================] - 61s 4s/step - loss: 1.2044 - accuracy: 0.5803 - val_loss: 1.2089 - val_accuracy: 0.5849\n",
      "Epoch 5/20\n",
      "14/14 [==============================] - ETA: 0s - loss: 1.1683 - accuracy: 0.5803"
     ]
    },
    {
     "name": "stderr",
     "output_type": "stream",
     "text": [
      "/Library/Frameworks/Python.framework/Versions/3.10/lib/python3.10/site-packages/keras/src/engine/training.py:3103: UserWarning: You are saving your model as an HDF5 file via `model.save()`. This file format is considered legacy. We recommend using instead the native Keras format, e.g. `model.save('my_model.keras')`.\n",
      "  saving_api.save_model(\n"
     ]
    },
    {
     "name": "stdout",
     "output_type": "stream",
     "text": [
      "INFO:tensorflow:Assets written to: BodyParts_VGG16_saved_model_Eye/assets\n"
     ]
    },
    {
     "name": "stderr",
     "output_type": "stream",
     "text": [
      "INFO:tensorflow:Assets written to: BodyParts_VGG16_saved_model_Eye/assets\n"
     ]
    },
    {
     "name": "stdout",
     "output_type": "stream",
     "text": [
      "14/14 [==============================] - 66s 5s/step - loss: 1.1683 - accuracy: 0.5803 - val_loss: 1.1804 - val_accuracy: 0.5755\n",
      "Epoch 6/20\n",
      "14/14 [==============================] - ETA: 0s - loss: 1.1056 - accuracy: 0.6078"
     ]
    },
    {
     "name": "stderr",
     "output_type": "stream",
     "text": [
      "/Library/Frameworks/Python.framework/Versions/3.10/lib/python3.10/site-packages/keras/src/engine/training.py:3103: UserWarning: You are saving your model as an HDF5 file via `model.save()`. This file format is considered legacy. We recommend using instead the native Keras format, e.g. `model.save('my_model.keras')`.\n",
      "  saving_api.save_model(\n"
     ]
    },
    {
     "name": "stdout",
     "output_type": "stream",
     "text": [
      "INFO:tensorflow:Assets written to: BodyParts_VGG16_saved_model_Eye/assets\n"
     ]
    },
    {
     "name": "stderr",
     "output_type": "stream",
     "text": [
      "INFO:tensorflow:Assets written to: BodyParts_VGG16_saved_model_Eye/assets\n"
     ]
    },
    {
     "name": "stdout",
     "output_type": "stream",
     "text": [
      "14/14 [==============================] - 67s 5s/step - loss: 1.1056 - accuracy: 0.6078 - val_loss: 1.1590 - val_accuracy: 0.6038\n",
      "Epoch 7/20\n",
      "14/14 [==============================] - ETA: 0s - loss: 1.1114 - accuracy: 0.5986"
     ]
    },
    {
     "name": "stderr",
     "output_type": "stream",
     "text": [
      "/Library/Frameworks/Python.framework/Versions/3.10/lib/python3.10/site-packages/keras/src/engine/training.py:3103: UserWarning: You are saving your model as an HDF5 file via `model.save()`. This file format is considered legacy. We recommend using instead the native Keras format, e.g. `model.save('my_model.keras')`.\n",
      "  saving_api.save_model(\n"
     ]
    },
    {
     "name": "stdout",
     "output_type": "stream",
     "text": [
      "INFO:tensorflow:Assets written to: BodyParts_VGG16_saved_model_Eye/assets\n"
     ]
    },
    {
     "name": "stderr",
     "output_type": "stream",
     "text": [
      "INFO:tensorflow:Assets written to: BodyParts_VGG16_saved_model_Eye/assets\n"
     ]
    },
    {
     "name": "stdout",
     "output_type": "stream",
     "text": [
      "14/14 [==============================] - 66s 5s/step - loss: 1.1114 - accuracy: 0.5986 - val_loss: 1.1312 - val_accuracy: 0.6604\n",
      "Epoch 8/20\n",
      "14/14 [==============================] - 68s 5s/step - loss: 1.0585 - accuracy: 0.6101 - val_loss: 1.1455 - val_accuracy: 0.5943\n",
      "Epoch 9/20\n",
      "14/14 [==============================] - ETA: 0s - loss: 1.0953 - accuracy: 0.6055"
     ]
    },
    {
     "name": "stderr",
     "output_type": "stream",
     "text": [
      "/Library/Frameworks/Python.framework/Versions/3.10/lib/python3.10/site-packages/keras/src/engine/training.py:3103: UserWarning: You are saving your model as an HDF5 file via `model.save()`. This file format is considered legacy. We recommend using instead the native Keras format, e.g. `model.save('my_model.keras')`.\n",
      "  saving_api.save_model(\n"
     ]
    },
    {
     "name": "stdout",
     "output_type": "stream",
     "text": [
      "INFO:tensorflow:Assets written to: BodyParts_VGG16_saved_model_Eye/assets\n"
     ]
    },
    {
     "name": "stderr",
     "output_type": "stream",
     "text": [
      "INFO:tensorflow:Assets written to: BodyParts_VGG16_saved_model_Eye/assets\n"
     ]
    },
    {
     "name": "stdout",
     "output_type": "stream",
     "text": [
      "14/14 [==============================] - 170s 13s/step - loss: 1.0953 - accuracy: 0.6055 - val_loss: 1.0807 - val_accuracy: 0.5566\n",
      "Epoch 10/20\n",
      "14/14 [==============================] - 87s 6s/step - loss: 1.0112 - accuracy: 0.6261 - val_loss: 1.1081 - val_accuracy: 0.6321\n",
      "Epoch 11/20\n",
      "14/14 [==============================] - ETA: 0s - loss: 0.9506 - accuracy: 0.6560"
     ]
    },
    {
     "name": "stderr",
     "output_type": "stream",
     "text": [
      "/Library/Frameworks/Python.framework/Versions/3.10/lib/python3.10/site-packages/keras/src/engine/training.py:3103: UserWarning: You are saving your model as an HDF5 file via `model.save()`. This file format is considered legacy. We recommend using instead the native Keras format, e.g. `model.save('my_model.keras')`.\n",
      "  saving_api.save_model(\n"
     ]
    },
    {
     "name": "stdout",
     "output_type": "stream",
     "text": [
      "INFO:tensorflow:Assets written to: BodyParts_VGG16_saved_model_Eye/assets\n"
     ]
    },
    {
     "name": "stderr",
     "output_type": "stream",
     "text": [
      "INFO:tensorflow:Assets written to: BodyParts_VGG16_saved_model_Eye/assets\n"
     ]
    },
    {
     "name": "stdout",
     "output_type": "stream",
     "text": [
      "14/14 [==============================] - 72s 5s/step - loss: 0.9506 - accuracy: 0.6560 - val_loss: 1.0690 - val_accuracy: 0.6321\n",
      "Epoch 12/20\n",
      "14/14 [==============================] - 165s 12s/step - loss: 1.0205 - accuracy: 0.6399 - val_loss: 1.0971 - val_accuracy: 0.6038\n",
      "Epoch 13/20\n",
      "14/14 [==============================] - ETA: 0s - loss: 0.9476 - accuracy: 0.6835 "
     ]
    },
    {
     "name": "stderr",
     "output_type": "stream",
     "text": [
      "/Library/Frameworks/Python.framework/Versions/3.10/lib/python3.10/site-packages/keras/src/engine/training.py:3103: UserWarning: You are saving your model as an HDF5 file via `model.save()`. This file format is considered legacy. We recommend using instead the native Keras format, e.g. `model.save('my_model.keras')`.\n",
      "  saving_api.save_model(\n"
     ]
    },
    {
     "name": "stdout",
     "output_type": "stream",
     "text": [
      "INFO:tensorflow:Assets written to: BodyParts_VGG16_saved_model_Eye/assets\n"
     ]
    },
    {
     "name": "stderr",
     "output_type": "stream",
     "text": [
      "INFO:tensorflow:Assets written to: BodyParts_VGG16_saved_model_Eye/assets\n"
     ]
    },
    {
     "name": "stdout",
     "output_type": "stream",
     "text": [
      "14/14 [==============================] - 326s 24s/step - loss: 0.9476 - accuracy: 0.6835 - val_loss: 1.0402 - val_accuracy: 0.6321\n",
      "Epoch 14/20\n",
      "14/14 [==============================] - 279s 20s/step - loss: 0.9392 - accuracy: 0.6606 - val_loss: 1.0562 - val_accuracy: 0.6226\n",
      "Epoch 15/20\n",
      "14/14 [==============================] - 206s 15s/step - loss: 0.8946 - accuracy: 0.7018 - val_loss: 1.0810 - val_accuracy: 0.6415\n",
      "Epoch 16/20\n",
      "14/14 [==============================] - ETA: 0s - loss: 0.8907 - accuracy: 0.6628 "
     ]
    },
    {
     "name": "stderr",
     "output_type": "stream",
     "text": [
      "/Library/Frameworks/Python.framework/Versions/3.10/lib/python3.10/site-packages/keras/src/engine/training.py:3103: UserWarning: You are saving your model as an HDF5 file via `model.save()`. This file format is considered legacy. We recommend using instead the native Keras format, e.g. `model.save('my_model.keras')`.\n",
      "  saving_api.save_model(\n"
     ]
    },
    {
     "name": "stdout",
     "output_type": "stream",
     "text": [
      "INFO:tensorflow:Assets written to: BodyParts_VGG16_saved_model_Eye/assets\n"
     ]
    },
    {
     "name": "stderr",
     "output_type": "stream",
     "text": [
      "INFO:tensorflow:Assets written to: BodyParts_VGG16_saved_model_Eye/assets\n"
     ]
    },
    {
     "name": "stdout",
     "output_type": "stream",
     "text": [
      "14/14 [==============================] - 211s 15s/step - loss: 0.8907 - accuracy: 0.6628 - val_loss: 1.0369 - val_accuracy: 0.6604\n",
      "Epoch 17/20\n",
      "14/14 [==============================] - ETA: 0s - loss: 0.8972 - accuracy: 0.6606 "
     ]
    },
    {
     "name": "stderr",
     "output_type": "stream",
     "text": [
      "/Library/Frameworks/Python.framework/Versions/3.10/lib/python3.10/site-packages/keras/src/engine/training.py:3103: UserWarning: You are saving your model as an HDF5 file via `model.save()`. This file format is considered legacy. We recommend using instead the native Keras format, e.g. `model.save('my_model.keras')`.\n",
      "  saving_api.save_model(\n"
     ]
    },
    {
     "name": "stdout",
     "output_type": "stream",
     "text": [
      "INFO:tensorflow:Assets written to: BodyParts_VGG16_saved_model_Eye/assets\n"
     ]
    },
    {
     "name": "stderr",
     "output_type": "stream",
     "text": [
      "INFO:tensorflow:Assets written to: BodyParts_VGG16_saved_model_Eye/assets\n"
     ]
    },
    {
     "name": "stdout",
     "output_type": "stream",
     "text": [
      "14/14 [==============================] - 213s 15s/step - loss: 0.8972 - accuracy: 0.6606 - val_loss: 1.0265 - val_accuracy: 0.6415\n",
      "Epoch 18/20\n",
      "14/14 [==============================] - ETA: 0s - loss: 0.8771 - accuracy: 0.6720 "
     ]
    },
    {
     "name": "stderr",
     "output_type": "stream",
     "text": [
      "/Library/Frameworks/Python.framework/Versions/3.10/lib/python3.10/site-packages/keras/src/engine/training.py:3103: UserWarning: You are saving your model as an HDF5 file via `model.save()`. This file format is considered legacy. We recommend using instead the native Keras format, e.g. `model.save('my_model.keras')`.\n",
      "  saving_api.save_model(\n"
     ]
    },
    {
     "name": "stdout",
     "output_type": "stream",
     "text": [
      "INFO:tensorflow:Assets written to: BodyParts_VGG16_saved_model_Eye/assets\n"
     ]
    },
    {
     "name": "stderr",
     "output_type": "stream",
     "text": [
      "INFO:tensorflow:Assets written to: BodyParts_VGG16_saved_model_Eye/assets\n"
     ]
    },
    {
     "name": "stdout",
     "output_type": "stream",
     "text": [
      "14/14 [==============================] - 212s 15s/step - loss: 0.8771 - accuracy: 0.6720 - val_loss: 1.0010 - val_accuracy: 0.6604\n",
      "Epoch 19/20\n",
      "14/14 [==============================] - 208s 15s/step - loss: 0.8429 - accuracy: 0.6766 - val_loss: 1.0215 - val_accuracy: 0.6415\n",
      "Epoch 20/20\n",
      "14/14 [==============================] - 228s 16s/step - loss: 0.8499 - accuracy: 0.6766 - val_loss: 1.0146 - val_accuracy: 0.6415\n",
      "INFO:tensorflow:Assets written to: BodyParts_VGG16_final_saved_model/assets\n"
     ]
    },
    {
     "name": "stderr",
     "output_type": "stream",
     "text": [
      "INFO:tensorflow:Assets written to: BodyParts_VGG16_final_saved_model/assets\n"
     ]
    },
    {
     "name": "stdout",
     "output_type": "stream",
     "text": [
      "✅ Final model saved at: BodyParts_VGG16_final_saved_model\n"
     ]
    }
   ],
   "source": [
    "# ✅ Build and train VGG16 model\n",
    "print(\"Building and training VGG16 model...\")\n",
    "model = build_vgg16_model(num_classes)\n",
    "history = train_model(model, 'BodyParts_VGG16')"
   ]
  },
  {
   "cell_type": "code",
   "execution_count": 43,
   "metadata": {},
   "outputs": [
    {
     "data": {
      "image/png": "[encoded data removed]",
      "text/plain": [
       "<Figure size 1200x500 with 2 Axes>"
      ]
     },
     "metadata": {},
     "output_type": "display_data"
    }
   ],
   "source": [
    "# ✅ Plot training history\n",
    "def plot_history(history, title):\n",
    "    plt.figure(figsize=(12, 5))\n",
    "\n",
    "    plt.subplot(1, 2, 1)\n",
    "    plt.plot(history.history['accuracy'], label='Train Accuracy')\n",
    "    plt.plot(history.history['val_accuracy'], label='Validation Accuracy')\n",
    "    plt.title(f'{title} Accuracy')\n",
    "    plt.xlabel('Epochs')\n",
    "    plt.ylabel('Accuracy')\n",
    "    plt.legend()\n",
    "\n",
    "    plt.subplot(1, 2, 2)\n",
    "    plt.plot(history.history['loss'], label='Train Loss')\n",
    "    plt.plot(history.history['val_loss'], label='Validation Loss')\n",
    "    plt.title(f'{title} Loss')\n",
    "    plt.xlabel('Epochs')\n",
    "    plt.ylabel('Loss')\n",
    "    plt.legend()\n",
    "\n",
    "    plt.show()\n",
    "\n",
    "plot_history(history, 'BodyParts_VGG16')\n"
   ]
  },
  {
   "cell_type": "code",
   "execution_count": 44,
   "metadata": {},
   "outputs": [
    {
     "name": "stdout",
     "output_type": "stream",
     "text": [
      "INFO:tensorflow:Assets written to: Eye_model/assets\n"
     ]
    },
    {
     "name": "stderr",
     "output_type": "stream",
     "text": [
      "INFO:tensorflow:Assets written to: Eye_model/assets\n"
     ]
    }
   ],
   "source": [
    "# Save final models in TensorFlow SavedModel format\n",
    "model.save('Eye_model')  "
   ]
  }
 ],
 "metadata": {
  "kernelspec": {
   "display_name": "Python 3",
   "language": "python",
   "name": "python3"
  },
  "language_info": {
   "codemirror_mode": {
    "name": "ipython",
    "version": 3
   },
   "file_extension": ".py",
   "mimetype": "text/x-python",
   "name": "python",
   "nbconvert_exporter": "python",
   "pygments_lexer": "ipython3",
   "version": "3.10.10"
  }
 },
 "nbformat": 4,
 "nbformat_minor": 2
}
