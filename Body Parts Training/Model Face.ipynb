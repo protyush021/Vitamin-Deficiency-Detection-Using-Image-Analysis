{
 "cells": [
  {
   "cell_type": "code",
   "execution_count": 12,
   "metadata": {},
   "outputs": [],
   "source": [
    "import tensorflow as tf\n",
    "from tensorflow.keras.preprocessing.image import ImageDataGenerator\n",
    "from tensorflow.keras.applications import VGG16\n",
    "from tensorflow.keras.models import Sequential\n",
    "from tensorflow.keras.layers import Dense, GlobalAveragePooling2D, Dropout\n",
    "from tensorflow.keras.callbacks import EarlyStopping, ModelCheckpoint\n",
    "import matplotlib.pyplot as plt\n",
    "import ssl\n",
    "import os"
   ]
  },
  {
   "cell_type": "code",
   "execution_count": 13,
   "metadata": {},
   "outputs": [],
   "source": [
    "# ✅ Fix SSL certificate verification issue\n",
    "ssl._create_default_https_context = ssl._create_unverified_context"
   ]
  },
  {
   "cell_type": "code",
   "execution_count": 14,
   "metadata": {},
   "outputs": [],
   "source": [
    "# ✅ Updated data path (no train/val/test directories; direct class folders under 'Body Parts')\n",
    "data_dir = 'Body Parts/Face'  # Example: 'Body Parts/Eye', 'Body Parts/Face', etc.\n"
   ]
  },
  {
   "cell_type": "code",
   "execution_count": 15,
   "metadata": {},
   "outputs": [],
   "source": [
    "# Image dimensions and batch size\n",
    "IMG_SIZE = (224, 224)\n",
    "BATCH_SIZE = 32\n"
   ]
  },
  {
   "cell_type": "code",
   "execution_count": 16,
   "metadata": {},
   "outputs": [],
   "source": [
    "# ✅ Data augmentation and data generators\n",
    "train_datagen = ImageDataGenerator(\n",
    "    rescale=1./255,\n",
    "    rotation_range=20,\n",
    "    width_shift_range=0.2,\n",
    "    height_shift_range=0.2,\n",
    "    shear_range=0.2,\n",
    "    zoom_range=0.2,\n",
    "    horizontal_flip=True,\n",
    "    fill_mode='nearest',\n",
    "    validation_split=0.2  # ✅ Split data into 80% train and 20% validation\n",
    ")\n"
   ]
  },
  {
   "cell_type": "code",
   "execution_count": 17,
   "metadata": {},
   "outputs": [
    {
     "name": "stdout",
     "output_type": "stream",
     "text": [
      "Found 273 images belonging to 3 classes.\n",
      "Found 66 images belonging to 3 classes.\n"
     ]
    }
   ],
   "source": [
    "# ✅ Generator function\n",
    "train_generator = train_datagen.flow_from_directory(\n",
    "    data_dir,\n",
    "    target_size=IMG_SIZE,\n",
    "    batch_size=BATCH_SIZE,\n",
    "    class_mode='categorical',\n",
    "    subset='training',\n",
    "    shuffle=True\n",
    ")\n",
    "\n",
    "val_generator = train_datagen.flow_from_directory(\n",
    "    data_dir,\n",
    "    target_size=IMG_SIZE,\n",
    "    batch_size=BATCH_SIZE,\n",
    "    class_mode='categorical',\n",
    "    subset='validation',\n",
    "    shuffle=False\n",
    ")"
   ]
  },
  {
   "cell_type": "code",
   "execution_count": 18,
   "metadata": {},
   "outputs": [
    {
     "name": "stdout",
     "output_type": "stream",
     "text": [
      "Classes found: {'Clear Face': 0, 'Pallor': 1, 'Swollen gum': 2}\n",
      "Number of classes detected: 3\n"
     ]
    }
   ],
   "source": [
    "# ✅ Debugging: Verify classes\n",
    "print(\"Classes found:\", train_generator.class_indices)\n",
    "num_classes = train_generator.num_classes\n",
    "print(f\"Number of classes detected: {num_classes}\")"
   ]
  },
  {
   "cell_type": "code",
   "execution_count": 19,
   "metadata": {},
   "outputs": [],
   "source": [
    "# ✅ Build VGG16 model\n",
    "def build_vgg16_model(num_classes):\n",
    "    base_model = VGG16(weights='imagenet', include_top=False, input_shape=(224, 224, 3))\n",
    "    base_model.trainable = False\n",
    "\n",
    "    model = Sequential([\n",
    "        base_model,\n",
    "        GlobalAveragePooling2D(),\n",
    "        Dense(512, activation='relu'),\n",
    "        Dropout(0.5),\n",
    "        Dense(num_classes, activation='softmax')\n",
    "    ])\n",
    "    return model"
   ]
  },
  {
   "cell_type": "code",
   "execution_count": 20,
   "metadata": {},
   "outputs": [],
   "source": [
    "# ✅ Callbacks to save the model\n",
    "def get_callbacks(model_name):\n",
    "    return [\n",
    "        EarlyStopping(monitor='val_loss', patience=5, restore_best_weights=True),\n",
    "        ModelCheckpoint(filepath=f'{model_name}_saved_model_Face', save_format='tf', monitor='val_loss', save_best_only=True)  # ✅ TensorFlow SavedModel format\n",
    "    ]\n"
   ]
  },
  {
   "cell_type": "code",
   "execution_count": 21,
   "metadata": {},
   "outputs": [],
   "source": [
    "# ✅ Training function\n",
    "def train_model(model, model_name):\n",
    "    model.compile(optimizer='adam', loss='categorical_crossentropy', metrics=['accuracy'])\n",
    "    history = model.fit(\n",
    "        train_generator,\n",
    "        epochs=20,\n",
    "        validation_data=val_generator,\n",
    "        callbacks=get_callbacks(model_name)\n",
    "    )\n",
    "\n",
    "    # ✅ Save final model in TensorFlow SavedModel format\n",
    "    model_save_path = f'{model_name}_final_saved_model'\n",
    "    model.save(model_save_path, save_format='tf')\n",
    "    print(f\"✅ Final model saved at: {model_save_path}\")\n",
    "    return history"
   ]
  },
  {
   "cell_type": "code",
   "execution_count": 22,
   "metadata": {},
   "outputs": [
    {
     "name": "stdout",
     "output_type": "stream",
     "text": [
      "Building and training VGG16 model...\n",
      "Epoch 1/20\n",
      "9/9 [==============================] - ETA: 0s - loss: 0.3681 - accuracy: 0.9121 INFO:tensorflow:Assets written to: BodyParts_VGG16_saved_model_Face/assets\n"
     ]
    },
    {
     "name": "stderr",
     "output_type": "stream",
     "text": [
      "INFO:tensorflow:Assets written to: BodyParts_VGG16_saved_model_Face/assets\n"
     ]
    },
    {
     "name": "stdout",
     "output_type": "stream",
     "text": [
      "9/9 [==============================] - 135s 16s/step - loss: 0.3681 - accuracy: 0.9121 - val_loss: 0.2295 - val_accuracy: 0.9545\n",
      "Epoch 2/20\n",
      "9/9 [==============================] - ETA: 0s - loss: 0.2436 - accuracy: 0.9341 INFO:tensorflow:Assets written to: BodyParts_VGG16_saved_model_Face/assets\n"
     ]
    },
    {
     "name": "stderr",
     "output_type": "stream",
     "text": [
      "INFO:tensorflow:Assets written to: BodyParts_VGG16_saved_model_Face/assets\n"
     ]
    },
    {
     "name": "stdout",
     "output_type": "stream",
     "text": [
      "9/9 [==============================] - 202s 23s/step - loss: 0.2436 - accuracy: 0.9341 - val_loss: 0.1067 - val_accuracy: 0.9545\n",
      "Epoch 3/20\n",
      "9/9 [==============================] - ETA: 0s - loss: 0.1301 - accuracy: 0.9597 INFO:tensorflow:Assets written to: BodyParts_VGG16_saved_model_Face/assets\n"
     ]
    },
    {
     "name": "stderr",
     "output_type": "stream",
     "text": [
      "INFO:tensorflow:Assets written to: BodyParts_VGG16_saved_model_Face/assets\n"
     ]
    },
    {
     "name": "stdout",
     "output_type": "stream",
     "text": [
      "9/9 [==============================] - 209s 24s/step - loss: 0.1301 - accuracy: 0.9597 - val_loss: 0.0952 - val_accuracy: 0.9697\n",
      "Epoch 4/20\n",
      "9/9 [==============================] - ETA: 0s - loss: 0.1021 - accuracy: 0.9524 INFO:tensorflow:Assets written to: BodyParts_VGG16_saved_model_Face/assets\n"
     ]
    },
    {
     "name": "stderr",
     "output_type": "stream",
     "text": [
      "INFO:tensorflow:Assets written to: BodyParts_VGG16_saved_model_Face/assets\n"
     ]
    },
    {
     "name": "stdout",
     "output_type": "stream",
     "text": [
      "9/9 [==============================] - 173s 20s/step - loss: 0.1021 - accuracy: 0.9524 - val_loss: 0.0585 - val_accuracy: 0.9697\n",
      "Epoch 5/20\n",
      "9/9 [==============================] - ETA: 0s - loss: 0.0654 - accuracy: 0.9707 INFO:tensorflow:Assets written to: BodyParts_VGG16_saved_model_Face/assets\n"
     ]
    },
    {
     "name": "stderr",
     "output_type": "stream",
     "text": [
      "INFO:tensorflow:Assets written to: BodyParts_VGG16_saved_model_Face/assets\n"
     ]
    },
    {
     "name": "stdout",
     "output_type": "stream",
     "text": [
      "9/9 [==============================] - 138s 15s/step - loss: 0.0654 - accuracy: 0.9707 - val_loss: 0.0448 - val_accuracy: 0.9848\n",
      "Epoch 6/20\n",
      "9/9 [==============================] - ETA: 0s - loss: 0.0606 - accuracy: 0.9853 INFO:tensorflow:Assets written to: BodyParts_VGG16_saved_model_Face/assets\n"
     ]
    },
    {
     "name": "stderr",
     "output_type": "stream",
     "text": [
      "INFO:tensorflow:Assets written to: BodyParts_VGG16_saved_model_Face/assets\n"
     ]
    },
    {
     "name": "stdout",
     "output_type": "stream",
     "text": [
      "9/9 [==============================] - 138s 16s/step - loss: 0.0606 - accuracy: 0.9853 - val_loss: 0.0408 - val_accuracy: 0.9848\n",
      "Epoch 7/20\n",
      "9/9 [==============================] - ETA: 0s - loss: 0.0518 - accuracy: 0.9780 INFO:tensorflow:Assets written to: BodyParts_VGG16_saved_model_Face/assets\n"
     ]
    },
    {
     "name": "stderr",
     "output_type": "stream",
     "text": [
      "INFO:tensorflow:Assets written to: BodyParts_VGG16_saved_model_Face/assets\n"
     ]
    },
    {
     "name": "stdout",
     "output_type": "stream",
     "text": [
      "9/9 [==============================] - 133s 15s/step - loss: 0.0518 - accuracy: 0.9780 - val_loss: 0.0384 - val_accuracy: 1.0000\n",
      "Epoch 8/20\n",
      "9/9 [==============================] - ETA: 0s - loss: 0.0510 - accuracy: 0.9853 INFO:tensorflow:Assets written to: BodyParts_VGG16_saved_model_Face/assets\n"
     ]
    },
    {
     "name": "stderr",
     "output_type": "stream",
     "text": [
      "INFO:tensorflow:Assets written to: BodyParts_VGG16_saved_model_Face/assets\n"
     ]
    },
    {
     "name": "stdout",
     "output_type": "stream",
     "text": [
      "9/9 [==============================] - 134s 15s/step - loss: 0.0510 - accuracy: 0.9853 - val_loss: 0.0324 - val_accuracy: 1.0000\n",
      "Epoch 9/20\n",
      "9/9 [==============================] - ETA: 0s - loss: 0.0408 - accuracy: 0.9744 INFO:tensorflow:Assets written to: BodyParts_VGG16_saved_model_Face/assets\n"
     ]
    },
    {
     "name": "stderr",
     "output_type": "stream",
     "text": [
      "INFO:tensorflow:Assets written to: BodyParts_VGG16_saved_model_Face/assets\n"
     ]
    },
    {
     "name": "stdout",
     "output_type": "stream",
     "text": [
      "9/9 [==============================] - 135s 15s/step - loss: 0.0408 - accuracy: 0.9744 - val_loss: 0.0292 - val_accuracy: 0.9848\n",
      "Epoch 10/20\n",
      "9/9 [==============================] - 133s 15s/step - loss: 0.0407 - accuracy: 0.9890 - val_loss: 0.0398 - val_accuracy: 0.9848\n",
      "Epoch 11/20\n",
      "9/9 [==============================] - ETA: 0s - loss: 0.0258 - accuracy: 0.9963 INFO:tensorflow:Assets written to: BodyParts_VGG16_saved_model_Face/assets\n"
     ]
    },
    {
     "name": "stderr",
     "output_type": "stream",
     "text": [
      "INFO:tensorflow:Assets written to: BodyParts_VGG16_saved_model_Face/assets\n"
     ]
    },
    {
     "name": "stdout",
     "output_type": "stream",
     "text": [
      "9/9 [==============================] - 133s 15s/step - loss: 0.0258 - accuracy: 0.9963 - val_loss: 0.0245 - val_accuracy: 1.0000\n",
      "Epoch 12/20\n",
      "9/9 [==============================] - ETA: 0s - loss: 0.0403 - accuracy: 0.9853 INFO:tensorflow:Assets written to: BodyParts_VGG16_saved_model_Face/assets\n"
     ]
    },
    {
     "name": "stderr",
     "output_type": "stream",
     "text": [
      "INFO:tensorflow:Assets written to: BodyParts_VGG16_saved_model_Face/assets\n"
     ]
    },
    {
     "name": "stdout",
     "output_type": "stream",
     "text": [
      "9/9 [==============================] - 136s 15s/step - loss: 0.0403 - accuracy: 0.9853 - val_loss: 0.0222 - val_accuracy: 1.0000\n",
      "Epoch 13/20\n",
      "9/9 [==============================] - ETA: 0s - loss: 0.0231 - accuracy: 0.9927 INFO:tensorflow:Assets written to: BodyParts_VGG16_saved_model_Face/assets\n"
     ]
    },
    {
     "name": "stderr",
     "output_type": "stream",
     "text": [
      "INFO:tensorflow:Assets written to: BodyParts_VGG16_saved_model_Face/assets\n"
     ]
    },
    {
     "name": "stdout",
     "output_type": "stream",
     "text": [
      "9/9 [==============================] - 145s 16s/step - loss: 0.0231 - accuracy: 0.9927 - val_loss: 0.0189 - val_accuracy: 0.9848\n",
      "Epoch 14/20\n",
      "9/9 [==============================] - 125s 14s/step - loss: 0.0216 - accuracy: 0.9963 - val_loss: 0.0192 - val_accuracy: 1.0000\n",
      "Epoch 15/20\n",
      "9/9 [==============================] - 92s 11s/step - loss: 0.0271 - accuracy: 0.9890 - val_loss: 0.0207 - val_accuracy: 1.0000\n",
      "Epoch 16/20\n",
      "9/9 [==============================] - ETA: 0s - loss: 0.0275 - accuracy: 0.9927INFO:tensorflow:Assets written to: BodyParts_VGG16_saved_model_Face/assets\n"
     ]
    },
    {
     "name": "stderr",
     "output_type": "stream",
     "text": [
      "INFO:tensorflow:Assets written to: BodyParts_VGG16_saved_model_Face/assets\n"
     ]
    },
    {
     "name": "stdout",
     "output_type": "stream",
     "text": [
      "9/9 [==============================] - 96s 11s/step - loss: 0.0275 - accuracy: 0.9927 - val_loss: 0.0181 - val_accuracy: 1.0000\n",
      "Epoch 17/20\n",
      "9/9 [==============================] - ETA: 0s - loss: 0.0301 - accuracy: 0.9853INFO:tensorflow:Assets written to: BodyParts_VGG16_saved_model_Face/assets\n"
     ]
    },
    {
     "name": "stderr",
     "output_type": "stream",
     "text": [
      "INFO:tensorflow:Assets written to: BodyParts_VGG16_saved_model_Face/assets\n"
     ]
    },
    {
     "name": "stdout",
     "output_type": "stream",
     "text": [
      "9/9 [==============================] - 98s 11s/step - loss: 0.0301 - accuracy: 0.9853 - val_loss: 0.0168 - val_accuracy: 1.0000\n",
      "Epoch 18/20\n",
      "9/9 [==============================] - 95s 11s/step - loss: 0.0299 - accuracy: 0.9927 - val_loss: 0.0245 - val_accuracy: 0.9848\n",
      "Epoch 19/20\n",
      "9/9 [==============================] - 88s 10s/step - loss: 0.0195 - accuracy: 0.9963 - val_loss: 0.0262 - val_accuracy: 1.0000\n",
      "Epoch 20/20\n",
      "9/9 [==============================] - ETA: 0s - loss: 0.0153 - accuracy: 0.9963INFO:tensorflow:Assets written to: BodyParts_VGG16_saved_model_Face/assets\n"
     ]
    },
    {
     "name": "stderr",
     "output_type": "stream",
     "text": [
      "INFO:tensorflow:Assets written to: BodyParts_VGG16_saved_model_Face/assets\n"
     ]
    },
    {
     "name": "stdout",
     "output_type": "stream",
     "text": [
      "9/9 [==============================] - 92s 10s/step - loss: 0.0153 - accuracy: 0.9963 - val_loss: 0.0128 - val_accuracy: 1.0000\n",
      "INFO:tensorflow:Assets written to: BodyParts_VGG16_final_saved_model/assets\n"
     ]
    },
    {
     "name": "stderr",
     "output_type": "stream",
     "text": [
      "INFO:tensorflow:Assets written to: BodyParts_VGG16_final_saved_model/assets\n"
     ]
    },
    {
     "name": "stdout",
     "output_type": "stream",
     "text": [
      "✅ Final model saved at: BodyParts_VGG16_final_saved_model\n"
     ]
    }
   ],
   "source": [
    "# ✅ Build and train VGG16 model\n",
    "print(\"Building and training VGG16 model...\")\n",
    "model = build_vgg16_model(num_classes)\n",
    "history = train_model(model, 'BodyParts_VGG16')"
   ]
  },
  {
   "cell_type": "code",
   "execution_count": 23,
   "metadata": {},
   "outputs": [
    {
     "data": {
      "image/png": "[encoded data removed]",
      "text/plain": [
       "<Figure size 1200x500 with 2 Axes>"
      ]
     },
     "metadata": {},
     "output_type": "display_data"
    }
   ],
   "source": [
    "# ✅ Plot training history\n",
    "def plot_history(history, title):\n",
    "    plt.figure(figsize=(12, 5))\n",
    "\n",
    "    plt.subplot(1, 2, 1)\n",
    "    plt.plot(history.history['accuracy'], label='Train Accuracy')\n",
    "    plt.plot(history.history['val_accuracy'], label='Validation Accuracy')\n",
    "    plt.title(f'{title} Accuracy')\n",
    "    plt.xlabel('Epochs')\n",
    "    plt.ylabel('Accuracy')\n",
    "    plt.legend()\n",
    "\n",
    "    plt.subplot(1, 2, 2)\n",
    "    plt.plot(history.history['loss'], label='Train Loss')\n",
    "    plt.plot(history.history['val_loss'], label='Validation Loss')\n",
    "    plt.title(f'{title} Loss')\n",
    "    plt.xlabel('Epochs')\n",
    "    plt.ylabel('Loss')\n",
    "    plt.legend()\n",
    "\n",
    "    plt.show()\n",
    "\n",
    "plot_history(history, 'BodyParts_VGG16')\n"
   ]
  },
  {
   "cell_type": "code",
   "execution_count": 24,
   "metadata": {},
   "outputs": [
    {
     "name": "stdout",
     "output_type": "stream",
     "text": [
      "INFO:tensorflow:Assets written to: Face_model/assets\n"
     ]
    },
    {
     "name": "stderr",
     "output_type": "stream",
     "text": [
      "INFO:tensorflow:Assets written to: Face_model/assets\n"
     ]
    }
   ],
   "source": [
    "# Save final models in TensorFlow SavedModel format\n",
    "model.save('Face_model')  "
   ]
  }
 ],
 "metadata": {
  "kernelspec": {
   "display_name": "Python 3",
   "language": "python",
   "name": "python3"
  },
  "language_info": {
   "codemirror_mode": {
    "name": "ipython",
    "version": 3
   },
   "file_extension": ".py",
   "mimetype": "text/x-python",
   "name": "python",
   "nbconvert_exporter": "python",
   "pygments_lexer": "ipython3",
   "version": "3.10.10"
  }
 },
 "nbformat": 4,
 "nbformat_minor": 2
}
