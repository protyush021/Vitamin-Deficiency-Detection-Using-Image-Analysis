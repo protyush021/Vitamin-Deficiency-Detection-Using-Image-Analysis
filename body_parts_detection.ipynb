{
 "cells": [
  {
   "cell_type": "code",
   "execution_count": 1,
   "metadata": {},
   "outputs": [],
   "source": [
    "import tensorflow as tf\n",
    "from tensorflow.keras.preprocessing.image import ImageDataGenerator\n",
    "from tensorflow.keras import layers, models\n",
    "from tensorflow.keras.callbacks import ModelCheckpoint\n",
    "import matplotlib.pyplot as plt"
   ]
  },
  {
   "cell_type": "code",
   "execution_count": 2,
   "metadata": {},
   "outputs": [],
   "source": [
    "# Paths and parameters\n",
    "dataset_dir = 'Body Parts'\n",
    "img_size = (224, 224)\n",
    "batch_size = 8\n",
    "epochs = 20"
   ]
  },
  {
   "cell_type": "code",
   "execution_count": 3,
   "metadata": {},
   "outputs": [
    {
     "name": "stdout",
     "output_type": "stream",
     "text": [
      "Found 1158 images belonging to 5 classes.\n",
      "Found 289 images belonging to 5 classes.\n"
     ]
    }
   ],
   "source": [
    "# Data generators\n",
    "datagen = ImageDataGenerator(validation_split=0.2, rescale=1./255)\n",
    "train_gen = datagen.flow_from_directory(\n",
    "    dataset_dir,\n",
    "    target_size=img_size,\n",
    "    batch_size=batch_size,\n",
    "    class_mode='categorical',\n",
    "    subset='training'\n",
    ")\n",
    "val_gen = datagen.flow_from_directory(\n",
    "    dataset_dir,\n",
    "    target_size=img_size,\n",
    "    batch_size=batch_size,\n",
    "    class_mode='categorical',\n",
    "    subset='validation'\n",
    ")"
   ]
  },
  {
   "cell_type": "code",
   "execution_count": 4,
   "metadata": {},
   "outputs": [],
   "source": [
    "# Model architecture\n",
    "model = models.Sequential([\n",
    "    layers.Input(shape=(224, 224, 3)),\n",
    "    layers.Conv2D(32, (3, 3), activation='relu'),\n",
    "    layers.MaxPooling2D(2, 2),\n",
    "    layers.Conv2D(64, (3, 3), activation='relu'),\n",
    "    layers.MaxPooling2D(2, 2),\n",
    "    layers.Conv2D(128, (3, 3), activation='relu'),\n",
    "    layers.MaxPooling2D(2, 2),\n",
    "    layers.Flatten(),\n",
    "    layers.Dense(128, activation='relu'),\n",
    "    layers.Dense(train_gen.num_classes, activation='softmax')\n",
    "])\n",
    "\n",
    "model.compile(optimizer='adam', loss='categorical_crossentropy', metrics=['accuracy'])\n"
   ]
  },
  {
   "cell_type": "code",
   "execution_count": 5,
   "metadata": {},
   "outputs": [],
   "source": [
    "# Save model as TensorFlow SavedModel format\n",
    "checkpoint = ModelCheckpoint('saved_model/body_parts_model', save_best_only=True, monitor='val_accuracy', mode='max', save_format='tf')\n"
   ]
  },
  {
   "cell_type": "code",
   "execution_count": 6,
   "metadata": {},
   "outputs": [
    {
     "name": "stdout",
     "output_type": "stream",
     "text": [
      "Epoch 1/20\n",
      "145/145 [==============================] - ETA: 0s - loss: 0.9982 - accuracy: 0.6062INFO:tensorflow:Assets written to: saved_model/body_parts_model/assets\n"
     ]
    },
    {
     "name": "stderr",
     "output_type": "stream",
     "text": [
      "INFO:tensorflow:Assets written to: saved_model/body_parts_model/assets\n"
     ]
    },
    {
     "name": "stdout",
     "output_type": "stream",
     "text": [
      "145/145 [==============================] - 24s 163ms/step - loss: 0.9982 - accuracy: 0.6062 - val_loss: 0.7390 - val_accuracy: 0.7232\n",
      "Epoch 2/20\n",
      "145/145 [==============================] - ETA: 0s - loss: 0.6297 - accuracy: 0.7703INFO:tensorflow:Assets written to: saved_model/body_parts_model/assets\n"
     ]
    },
    {
     "name": "stderr",
     "output_type": "stream",
     "text": [
      "INFO:tensorflow:Assets written to: saved_model/body_parts_model/assets\n"
     ]
    },
    {
     "name": "stdout",
     "output_type": "stream",
     "text": [
      "145/145 [==============================] - 24s 164ms/step - loss: 0.6297 - accuracy: 0.7703 - val_loss: 0.5996 - val_accuracy: 0.7855\n",
      "Epoch 3/20\n",
      "145/145 [==============================] - ETA: 0s - loss: 0.2933 - accuracy: 0.9093INFO:tensorflow:Assets written to: saved_model/body_parts_model/assets\n"
     ]
    },
    {
     "name": "stderr",
     "output_type": "stream",
     "text": [
      "INFO:tensorflow:Assets written to: saved_model/body_parts_model/assets\n"
     ]
    },
    {
     "name": "stdout",
     "output_type": "stream",
     "text": [
      "145/145 [==============================] - 26s 182ms/step - loss: 0.2933 - accuracy: 0.9093 - val_loss: 0.5256 - val_accuracy: 0.8512\n",
      "Epoch 4/20\n",
      "145/145 [==============================] - ETA: 0s - loss: 0.1570 - accuracy: 0.9534INFO:tensorflow:Assets written to: saved_model/body_parts_model/assets\n"
     ]
    },
    {
     "name": "stderr",
     "output_type": "stream",
     "text": [
      "INFO:tensorflow:Assets written to: saved_model/body_parts_model/assets\n"
     ]
    },
    {
     "name": "stdout",
     "output_type": "stream",
     "text": [
      "145/145 [==============================] - 25s 175ms/step - loss: 0.1570 - accuracy: 0.9534 - val_loss: 0.4390 - val_accuracy: 0.8720\n",
      "Epoch 5/20\n",
      "145/145 [==============================] - 24s 166ms/step - loss: 0.0881 - accuracy: 0.9741 - val_loss: 0.5430 - val_accuracy: 0.8547\n",
      "Epoch 6/20\n",
      "145/145 [==============================] - 26s 180ms/step - loss: 0.0781 - accuracy: 0.9750 - val_loss: 0.6630 - val_accuracy: 0.8651\n",
      "Epoch 7/20\n",
      "145/145 [==============================] - ETA: 0s - loss: 0.1272 - accuracy: 0.9611INFO:tensorflow:Assets written to: saved_model/body_parts_model/assets\n"
     ]
    },
    {
     "name": "stderr",
     "output_type": "stream",
     "text": [
      "INFO:tensorflow:Assets written to: saved_model/body_parts_model/assets\n"
     ]
    },
    {
     "name": "stdout",
     "output_type": "stream",
     "text": [
      "145/145 [==============================] - 24s 167ms/step - loss: 0.1272 - accuracy: 0.9611 - val_loss: 0.4545 - val_accuracy: 0.8858\n",
      "Epoch 8/20\n",
      "145/145 [==============================] - 31s 213ms/step - loss: 0.0816 - accuracy: 0.9767 - val_loss: 0.7783 - val_accuracy: 0.8374\n",
      "Epoch 9/20\n",
      "145/145 [==============================] - ETA: 0s - loss: 0.0248 - accuracy: 0.9931INFO:tensorflow:Assets written to: saved_model/body_parts_model/assets\n"
     ]
    },
    {
     "name": "stderr",
     "output_type": "stream",
     "text": [
      "INFO:tensorflow:Assets written to: saved_model/body_parts_model/assets\n"
     ]
    },
    {
     "name": "stdout",
     "output_type": "stream",
     "text": [
      "145/145 [==============================] - 27s 186ms/step - loss: 0.0248 - accuracy: 0.9931 - val_loss: 0.6411 - val_accuracy: 0.8893\n",
      "Epoch 10/20\n",
      "145/145 [==============================] - 27s 188ms/step - loss: 0.0085 - accuracy: 0.9965 - val_loss: 0.7397 - val_accuracy: 0.8858\n",
      "Epoch 11/20\n",
      "145/145 [==============================] - 24s 164ms/step - loss: 0.0079 - accuracy: 0.9974 - val_loss: 0.9925 - val_accuracy: 0.8720\n",
      "Epoch 12/20\n",
      "145/145 [==============================] - 24s 168ms/step - loss: 0.0500 - accuracy: 0.9862 - val_loss: 0.8312 - val_accuracy: 0.8789\n",
      "Epoch 13/20\n",
      "145/145 [==============================] - 24s 166ms/step - loss: 0.0110 - accuracy: 0.9983 - val_loss: 1.0816 - val_accuracy: 0.8858\n",
      "Epoch 14/20\n",
      "145/145 [==============================] - 24s 168ms/step - loss: 0.0048 - accuracy: 0.9983 - val_loss: 1.1404 - val_accuracy: 0.8754\n",
      "Epoch 15/20\n",
      "145/145 [==============================] - 24s 166ms/step - loss: 0.0116 - accuracy: 0.9957 - val_loss: 1.2921 - val_accuracy: 0.8824\n",
      "Epoch 16/20\n",
      "145/145 [==============================] - 24s 167ms/step - loss: 0.0497 - accuracy: 0.9862 - val_loss: 1.0229 - val_accuracy: 0.8789\n",
      "Epoch 17/20\n",
      "145/145 [==============================] - 24s 166ms/step - loss: 0.0614 - accuracy: 0.9845 - val_loss: 0.9991 - val_accuracy: 0.8789\n",
      "Epoch 18/20\n",
      "145/145 [==============================] - 25s 173ms/step - loss: 0.0150 - accuracy: 0.9974 - val_loss: 0.9276 - val_accuracy: 0.8824\n",
      "Epoch 19/20\n",
      "145/145 [==============================] - ETA: 0s - loss: 9.3781e-04 - accuracy: 1.0000INFO:tensorflow:Assets written to: saved_model/body_parts_model/assets\n"
     ]
    },
    {
     "name": "stderr",
     "output_type": "stream",
     "text": [
      "INFO:tensorflow:Assets written to: saved_model/body_parts_model/assets\n"
     ]
    },
    {
     "name": "stdout",
     "output_type": "stream",
     "text": [
      "145/145 [==============================] - 31s 211ms/step - loss: 9.3781e-04 - accuracy: 1.0000 - val_loss: 0.9393 - val_accuracy: 0.8962\n",
      "Epoch 20/20\n",
      "145/145 [==============================] - 33s 227ms/step - loss: 3.0913e-04 - accuracy: 1.0000 - val_loss: 0.9630 - val_accuracy: 0.8962\n"
     ]
    }
   ],
   "source": [
    "# Train model\n",
    "history = model.fit(\n",
    "    train_gen,\n",
    "    epochs=epochs,\n",
    "    validation_data=val_gen,\n",
    "    callbacks=[checkpoint]\n",
    ")"
   ]
  },
  {
   "cell_type": "code",
   "execution_count": 7,
   "metadata": {},
   "outputs": [
    {
     "data": {
      "image/png": "[encoded data removed]",
      "text/plain": [
       "<Figure size 640x480 with 1 Axes>"
      ]
     },
     "metadata": {},
     "output_type": "display_data"
    }
   ],
   "source": [
    "# Plot training history\n",
    "plt.plot(history.history['accuracy'], label='Train Accuracy')\n",
    "plt.plot(history.history['val_accuracy'], label='Validation Accuracy')\n",
    "plt.xlabel('Epochs')\n",
    "plt.ylabel('Accuracy')\n",
    "plt.legend()\n",
    "plt.title('Training and Validation Accuracy')\n",
    "plt.show()\n"
   ]
  }
 ],
 "metadata": {
  "kernelspec": {
   "display_name": "Python 3",
   "language": "python",
   "name": "python3"
  },
  "language_info": {
   "codemirror_mode": {
    "name": "ipython",
    "version": 3
   },
   "file_extension": ".py",
   "mimetype": "text/x-python",
   "name": "python",
   "nbconvert_exporter": "python",
   "pygments_lexer": "ipython3",
   "version": "3.10.10"
  }
 },
 "nbformat": 4,
 "nbformat_minor": 2
}
